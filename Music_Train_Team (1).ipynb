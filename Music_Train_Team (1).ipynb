{
  "nbformat": 4,
  "nbformat_minor": 0,
  "metadata": {
    "colab": {
      "name": "Music_Train - Team.ipynb",
      "provenance": [],
      "collapsed_sections": [],
      "machine_shape": "hm"
    },
    "kernelspec": {
      "name": "python3",
      "display_name": "Python 3"
    },
    "accelerator": "GPU"
  },
  "cells": [
    {
      "cell_type": "code",
      "metadata": {
        "id": "j6v2rjJM7Cxt",
        "colab_type": "code",
        "colab": {}
      },
      "source": [
        "import os\n",
        "import pickle\n",
        "import time\n",
        "import glob\n",
        "import sys\n",
        "\n",
        "# use google3 ad hoc import\n",
        "#from colabtools import adhoc_import\n",
        "#with adhoc_import.Google3SubmittedChangelist():\n",
        "#  from google3.third_party.music21 import midi, converter, chord, note\n",
        "\n",
        "from music21 import midi, converter, chord, note, stream, instrument, duration\n",
        "\n",
        "import numpy as np\n",
        "import matplotlib.pyplot as plt\n",
        "\n",
        "from tensorflow.keras.layers import LSTM, Input, Dropout, Dense, Activation, Embedding, Concatenate, Reshape, Bidirectional\n",
        "from tensorflow.keras.layers import Flatten, RepeatVector, Permute, TimeDistributed\n",
        "from tensorflow.keras.layers import Multiply, Lambda, Softmax, dot, concatenate\n",
        "import tensorflow.keras.backend as K \n",
        "from tensorflow.keras.models import Model\n",
        "from tensorflow.keras.optimizers import RMSprop\n",
        "from tensorflow.keras.layers import Layer\n",
        "\n",
        "from tensorflow.keras.utils import to_categorical, plot_model\n",
        "import tensorflow as tf\n",
        "\n",
        "from tensorflow.keras.callbacks import ModelCheckpoint, EarlyStopping"
      ],
      "execution_count": 0,
      "outputs": []
    },
    {
      "cell_type": "code",
      "metadata": {
        "id": "epYHjGOeEq4J",
        "colab_type": "code",
        "outputId": "6dd14b03-a160-4bdd-89bb-da92f2b34cf0",
        "colab": {
          "base_uri": "https://localhost:8080/",
          "height": 121
        }
      },
      "source": [
        "from google.colab import drive\n",
        "drive.mount('/content/gdrive')"
      ],
      "execution_count": 0,
      "outputs": [
        {
          "output_type": "stream",
          "text": [
            "Go to this URL in a browser: https://accounts.google.com/o/oauth2/auth?client_id=947318989803-6bn6qk8qdgf4n4g3pfee6491hc0brc4i.apps.googleusercontent.com&redirect_uri=urn%3aietf%3awg%3aoauth%3a2.0%3aoob&response_type=code&scope=email%20https%3a%2f%2fwww.googleapis.com%2fauth%2fdocs.test%20https%3a%2f%2fwww.googleapis.com%2fauth%2fdrive%20https%3a%2f%2fwww.googleapis.com%2fauth%2fdrive.photos.readonly%20https%3a%2f%2fwww.googleapis.com%2fauth%2fpeopleapi.readonly\n",
            "\n",
            "Enter your authorization code:\n",
            "··········\n",
            "Mounted at /content/gdrive\n"
          ],
          "name": "stdout"
        }
      ]
    },
    {
      "cell_type": "markdown",
      "metadata": {
        "id": "HJ3ONRM3kGKj",
        "colab_type": "text"
      },
      "source": [
        "#Set Parameters and Create Folders"
      ]
    },
    {
      "cell_type": "code",
      "metadata": {
        "id": "LKCXtcCEISVe",
        "colab_type": "code",
        "colab": {}
      },
      "source": [
        "#sys.path.append('/content/gdrive/My Drive/cs230')\n",
        "project_folder = \"/content/gdrive/My Drive/cs230\"\n",
        "#data_folder = project_folder + \"/data\"\n",
        "cello_folder = project_folder + \"/data/cello\""
      ],
      "execution_count": 0,
      "outputs": []
    },
    {
      "cell_type": "code",
      "metadata": {
        "id": "xrwb43C0_apu",
        "colab_type": "code",
        "colab": {}
      },
      "source": [
        "section = 'compose'\n",
        "run_id = '003'\n",
        "music_name = 'cello'\n",
        "\n",
        "run_folder = project_folder + '/run/{}/'.format(section)\n",
        "run_folder += '_'.join([run_id, music_name])\n",
        "\n",
        "store_folder = os.path.join(run_folder, 'store')\n",
        "data_folder = os.path.join('data', music_name)\n",
        "\n",
        "if not os.path.exists(run_folder):\n",
        "    os.makedirs(run_folder)\n",
        "    os.makedirs(os.path.join(run_folder, 'store'))\n",
        "    os.makedirs(os.path.join(run_folder, 'output'))\n",
        "    os.makedirs(os.path.join(run_folder, 'weights'))\n",
        "    \n",
        "#mode = 'build'    # use this the on the first run\n",
        "mode = 'load'      # use this after the firts run\n",
        "# data params\n",
        "seq_len = 32\n",
        "\n",
        "# model params\n",
        "embed_size = 100\n",
        "rnn_units = 256\n",
        "use_attention = True"
      ],
      "execution_count": 0,
      "outputs": []
    },
    {
      "cell_type": "markdown",
      "metadata": {
        "id": "b5VHB-JrV6V2",
        "colab_type": "text"
      },
      "source": [
        "#Extract Notes"
      ]
    },
    {
      "cell_type": "code",
      "metadata": {
        "id": "H6hdWE_he6h0",
        "colab_type": "code",
        "outputId": "71feb6af-e5f3-4c96-9011-a0cf8dd9f4d6",
        "colab": {
          "base_uri": "https://localhost:8080/",
          "height": 34
        }
      },
      "source": [
        "cello_folder"
      ],
      "execution_count": 0,
      "outputs": [
        {
          "output_type": "execute_result",
          "data": {
            "text/plain": [
              "'/content/gdrive/My Drive/cs230/data/cello'"
            ]
          },
          "metadata": {
            "tags": []
          },
          "execution_count": 19
        }
      ]
    },
    {
      "cell_type": "markdown",
      "metadata": {
        "id": "uiky-AHGxWE2",
        "colab_type": "text"
      },
      "source": [
        "#Create Note and Duration Dictionaries"
      ]
    },
    {
      "cell_type": "code",
      "metadata": {
        "id": "wOu8RzpNfP-P",
        "colab_type": "code",
        "colab": {}
      },
      "source": [
        "if mode == 'build':\n",
        "    \n",
        "    #music_list, parser = get_music_list(data_folder)\n",
        "    music_list = glob.glob(os.path.join(cello_folder, \"*.mid\"))\n",
        "    print(len(music_list), 'files in total')\n",
        "\n",
        "    notes = []\n",
        "    durations = []\n",
        "\n",
        "    # These dictionaries contain the number half steps required to transpose music to either C major or A minor\n",
        "    majors = dict([('A-', 4),('G#', 4),('A', 3),('A#', 2),('B-', 2),('B', 1),('C', 0),('C#', -1),('D-', -1),('D', -2),('D#', -3),('E-', -3),('E', -4),('6F', -5),('F#', 6),('G-', 6),('G', 5)])\n",
        "    minors = dict([('G#', 1), ('A-', 1),('A', 0),('A#', -1),('B-', -1),('B', -2),('C', -3),('C#', -4),('D-', -4),('D', -5),('D#', 6),('E-', 6),('E', 5),('F', 4),('F#', 3),('G-', 3),('G', 2)])\n",
        "\n",
        "    for i, file in enumerate(music_list):\n",
        "        print(i+1, \"Parsing %s\" % file)\n",
        "        original_score = converter.parse(file).chordify()\n",
        "        \n",
        "        key = original_score.analyze('key')\n",
        "        #print('original key', key)\n",
        "        if key.mode == \"major\":\n",
        "            halfSteps = majors[key.tonic.name]\n",
        "        elif key.mode == \"minor\":\n",
        "            halfSteps = minors[key.tonic.name]\n",
        "\n",
        "        score = original_score.transpose(halfSteps)\n",
        "        #print('new key', score.analyze('key'))\n",
        "        notes.extend(['START'] * seq_len)\n",
        "        durations.extend([0]* seq_len)\n",
        "\n",
        "        for element in score.flat:\n",
        "                \n",
        "            if isinstance(element, note.Note):\n",
        "                if element.isRest:\n",
        "                    notes.append(str(element.name))\n",
        "                    #print(element.name)\n",
        "                    durations.append(element.duration.quarterLength)\n",
        "                else:\n",
        "                    notes.append(str(element.nameWithOctave))\n",
        "                    durations.append(element.duration.quarterLength)\n",
        "\n",
        "            if isinstance(element, chord.Chord):\n",
        "                notes.append('.'.join(n.nameWithOctave for n in element.pitches))\n",
        "                durations.append(element.duration.quarterLength)\n",
        "\n",
        "    with open(os.path.join(store_folder, 'notes'), 'wb') as f:\n",
        "        pickle.dump(notes, f) #['G2', 'D3', 'B3', 'A3', 'B3', 'D3', 'B3', 'D3', 'G2',...]\n",
        "    with open(os.path.join(store_folder, 'durations'), 'wb') as f:\n",
        "        pickle.dump(durations, f) \n",
        "else:\n",
        "    with open(os.path.join(store_folder, 'notes'), 'rb') as f:\n",
        "        notes = pickle.load(f) #['G2', 'D3', 'B3', 'A3', 'B3', 'D3', 'B3', 'D3', 'G2',...]\n",
        "    with open(os.path.join(store_folder, 'durations'), 'rb') as f:\n",
        "        durations = pickle.load(f)"
      ],
      "execution_count": 0,
      "outputs": []
    },
    {
      "cell_type": "code",
      "metadata": {
        "id": "FD3mUI8xxCES",
        "colab_type": "code",
        "colab": {}
      },
      "source": [
        "def get_distinct(elements):\n",
        "    # Get all pitch names\n",
        "    element_names = sorted(set(elements))\n",
        "    n_elements = len(element_names)\n",
        "    return (element_names, n_elements)\n",
        "\n",
        "def create_lookups(element_names):\n",
        "    # create dictionary to map notes and durations to integers\n",
        "    element_to_int = {element:number for number, element in enumerate(element_names)}\n",
        "    int_to_element = {number: element for number, element in enumerate(element_names)}\n",
        "\n",
        "    return (element_to_int, int_to_element)"
      ],
      "execution_count": 0,
      "outputs": []
    },
    {
      "cell_type": "code",
      "metadata": {
        "id": "ZUejmu4Iy0IQ",
        "colab_type": "code",
        "colab": {}
      },
      "source": [
        "# get the distinct sets of notes and durations\n",
        "note_names, n_notes = get_distinct(notes)\n",
        "duration_names, n_durations = get_distinct(durations)\n",
        "distincts = [note_names, n_notes, duration_names, n_durations]\n",
        "\n",
        "with open(os.path.join(store_folder, 'distincts'), 'wb') as f:\n",
        "    pickle.dump(distincts, f)\n",
        "\n",
        "# make the lookup dictionaries for notes and dictionaries and save\n",
        "note_to_int, int_to_note = create_lookups(note_names)\n",
        "duration_to_int, int_to_duration = create_lookups(duration_names)\n",
        "lookups = [note_to_int, int_to_note, duration_to_int, int_to_duration]\n",
        "\n",
        "with open(os.path.join(store_folder, 'lookups'), 'wb') as f:\n",
        "    pickle.dump(lookups, f)"
      ],
      "execution_count": 0,
      "outputs": []
    },
    {
      "cell_type": "code",
      "metadata": {
        "id": "cr4ji14PcOhu",
        "colab_type": "code",
        "outputId": "b2d7b2a0-4797-46fd-cb7f-4617d1b763d4",
        "colab": {
          "base_uri": "https://localhost:8080/",
          "height": 162
        }
      },
      "source": [
        "notes"
      ],
      "execution_count": 0,
      "outputs": [
        {
          "output_type": "error",
          "ename": "NameError",
          "evalue": "ignored",
          "traceback": [
            "\u001b[0;31m---------------------------------------------------------------------------\u001b[0m",
            "\u001b[0;31mNameError\u001b[0m                                 Traceback (most recent call last)",
            "\u001b[0;32m<ipython-input-2-b9350f295d01>\u001b[0m in \u001b[0;36m<module>\u001b[0;34m()\u001b[0m\n\u001b[0;32m----> 1\u001b[0;31m \u001b[0mnotes\u001b[0m\u001b[0;34m\u001b[0m\u001b[0;34m\u001b[0m\u001b[0m\n\u001b[0m",
            "\u001b[0;31mNameError\u001b[0m: name 'notes' is not defined"
          ]
        }
      ]
    },
    {
      "cell_type": "markdown",
      "metadata": {
        "id": "x-HTYi2q5KMs",
        "colab_type": "text"
      },
      "source": [
        "#Prepare Training Data"
      ]
    },
    {
      "cell_type": "code",
      "metadata": {
        "id": "5nBecFgX373I",
        "colab_type": "code",
        "colab": {}
      },
      "source": [
        "def prepare_sequences(notes, durations, lookups, distincts, seq_len=32):\n",
        "    \"\"\" Prepare the sequences used to train the Neural Network \"\"\"\n",
        "\n",
        "    note_to_int, int_to_note, duration_to_int, int_to_duration = lookups\n",
        "    note_names, n_notes, duration_names, n_durations = distincts\n",
        "\n",
        "    notes_network_input = []\n",
        "    notes_network_output = []\n",
        "    durations_network_input = []\n",
        "    durations_network_output = []\n",
        "\n",
        "    # create input sequences and the corresponding outputs\n",
        "    for i in range(len(notes) - seq_len):\n",
        "        notes_sequence_in = notes[i:i + seq_len]\n",
        "        notes_sequence_out = notes[i + seq_len]\n",
        "        notes_network_input.append([note_to_int[char] for char in notes_sequence_in])\n",
        "        notes_network_output.append(note_to_int[notes_sequence_out])\n",
        "\n",
        "        durations_sequence_in = durations[i:i + seq_len]\n",
        "        durations_sequence_out = durations[i + seq_len]\n",
        "        durations_network_input.append([duration_to_int[char] for char in durations_sequence_in])\n",
        "        durations_network_output.append(duration_to_int[durations_sequence_out])\n",
        "\n",
        "    n_patterns = len(notes_network_input)\n",
        "\n",
        "    # reshape the input into a format compatible with LSTM layers\n",
        "    notes_network_input = np.reshape(notes_network_input, (n_patterns, seq_len))\n",
        "    durations_network_input = np.reshape(durations_network_input, (n_patterns, seq_len))\n",
        "    network_input = [notes_network_input, durations_network_input]\n",
        "    notes_network_output = to_categorical(notes_network_output, num_classes=n_notes)\n",
        "    durations_network_output = to_categorical(durations_network_output, num_classes=n_durations)\n",
        "    network_output = [notes_network_output, durations_network_output]\n",
        "\n",
        "    return (network_input, network_output)"
      ],
      "execution_count": 0,
      "outputs": []
    },
    {
      "cell_type": "code",
      "metadata": {
        "id": "8IPvxKXx38CZ",
        "colab_type": "code",
        "colab": {}
      },
      "source": [
        "network_input, network_output = prepare_sequences(notes, durations, lookups, distincts, seq_len)"
      ],
      "execution_count": 0,
      "outputs": []
    },
    {
      "cell_type": "code",
      "metadata": {
        "id": "W1QrvwfbbR9f",
        "colab_type": "code",
        "colab": {}
      },
      "source": [
        "#print(network_output[0].shape)\n",
        "#print(network_output[1].shape)"
      ],
      "execution_count": 0,
      "outputs": []
    },
    {
      "cell_type": "code",
      "metadata": {
        "id": "OgOa8sq54mkF",
        "colab_type": "code",
        "colab": {}
      },
      "source": [
        "#print('pitch input')\n",
        "#print(network_input[0][5])\n",
        "#print('duration input')\n",
        "#print(network_input[1][5])\n",
        "#print('pitch output')\n",
        "#print(network_output[0][5])\n",
        "#print('duration output')\n",
        "#print(network_output[1][5])"
      ],
      "execution_count": 0,
      "outputs": []
    },
    {
      "cell_type": "markdown",
      "metadata": {
        "id": "NJLTM2HcuP3f",
        "colab_type": "text"
      },
      "source": [
        "# LSTM Encoder/Decoder with Attention"
      ]
    },
    {
      "cell_type": "code",
      "metadata": {
        "id": "0zzJL0VZ2T2I",
        "colab_type": "code",
        "outputId": "e7c365b2-2a4a-478d-d251-4d32911d0ef9",
        "colab": {
          "base_uri": "https://localhost:8080/",
          "height": 34
        }
      },
      "source": [
        "n_notes, len(network_output[0][5])"
      ],
      "execution_count": 0,
      "outputs": [
        {
          "output_type": "execute_result",
          "data": {
            "text/plain": [
              "(461, 461)"
            ]
          },
          "metadata": {
            "tags": []
          },
          "execution_count": 63
        }
      ]
    },
    {
      "cell_type": "code",
      "metadata": {
        "id": "i0zNjESaP270",
        "colab_type": "code",
        "colab": {}
      },
      "source": [
        "# def create_network(n_notes, n_durations, embed_size = 100, rnn_units = 256):\n",
        "#     \"\"\" encoder/decoder with attention \"\"\"\n",
        "\n",
        "#     encoder_notes_in = Input(shape = (None,))\n",
        "#     encoder_durations_in = Input(shape = (None,))\n",
        "\n",
        "#     # Can we save these embeddings while training on jazz and then reuse to generate jazz?\n",
        "#     encoder_notes = Embedding(n_notes, embed_size)(encoder_notes_in)\n",
        "#     encoder_duration = Embedding(n_durations, embed_size)(encoder_durations_in) \n",
        "\n",
        "#     encoder_input = Concatenate()([encoder_notes, encoder_duration])\n",
        "\n",
        "#     encoder = LSTM(rnn_units, return_sequences=True, name='lstm_enc1')(encoder_input)\n",
        "#     encoder_output, encoder_h, encoder_c = LSTM(rnn_units, return_state=True, name='lstm_enc2')(encoder)\n",
        "#     encoder_states = [encoder_h, encoder_c]\n",
        "#     print('encoder_output', encoder_output)\n",
        "#     print('encoder_states', encoder_states)\n",
        "  \n",
        " \n",
        "#     decoder_notes = LSTM(rnn_units, return_sequences=True, name='lstm_notes_dec')(encoder_output)#, initial_state=encoder_states)\n",
        "#     print('lstm_notes_dec', decoder_notes)\n",
        "#     #decoder_durations = LSTM(rnn_units, return_sequences=True, name='lstm_durations_dec')(encoder_output)\n",
        "#     print('lstm_durations_dec', decoder_durations)\n",
        "#     #print('decoder', decoder)\n",
        "#     # end decoder\n",
        "\n",
        "#     # Attention Mechanism\n",
        "#     e = Dense(1, activation='tanh')(Concatenate()([endocer_output, decoder_out]))\n",
        "#     e = Reshape([-1])(e)\n",
        "#     alpha = Activation('softmax')(e)\n",
        "#     c = Permute([2, 1])(RepeatVector(rnn_units)(alpha))\n",
        "#     c = Multiply()([encoder_output, c])\n",
        "#     c = Lambda(lambda xin: K.sum(xin, axis=1), outoput_shape=(rnn_units, ))(c)\n",
        "#     c = Concatenate()([decoder_out, c])\n",
        "  \n",
        "#     notes_out = TimeDistributed(Dense(n_notes, activation = 'softmax', name = 'pitch'))(c)\n",
        "#     print('notes_out', notes_out)\n",
        "#     durations_out = TimeDistributed(Dense(n_durations, activation = 'softmax', name = 'duration'))(c)\n",
        "#     print('durations_out', durations_out)\n",
        "#     model = Model([encoder_notes_in, encoder_durations_in], [notes_out, durations_out])\n",
        "#     opti = RMSprop(lr = 0.001)\n",
        "#     model.compile(loss=['categorical_crossentropy', 'categorical_crossentropy'], optimizer=opti)\n",
        "#     att_model = None\n",
        "#     return model"
      ],
      "execution_count": 0,
      "outputs": []
    },
    {
      "cell_type": "markdown",
      "metadata": {
        "id": "1sCBF4dyTJ36",
        "colab_type": "text"
      },
      "source": [
        "# LSTM Baseline Network"
      ]
    },
    {
      "cell_type": "code",
      "metadata": {
        "id": "bx2hFma6Ryz4",
        "colab_type": "code",
        "colab": {}
      },
      "source": [
        "# def create_network(n_notes, n_durations, embed_size = 100, rnn_units = 256):\n",
        "#     \"\"\" create baseline network \"\"\"\n",
        "\n",
        "#     notes_in = Input(shape = (None,))\n",
        "#     durations_in = Input(shape = (None,))\n",
        "\n",
        "#     x1 = Embedding(n_notes, embed_size)(notes_in)\n",
        "#     x2 = Embedding(n_durations, embed_size)(durations_in) \n",
        "\n",
        "#     x = Concatenate()([x1,x2])\n",
        "\n",
        "#     x = LSTM(rnn_units, return_sequences=True)(x)\n",
        "\n",
        "#     c = LSTM(rnn_units)(x)\n",
        "                                    \n",
        "#     notes_out = Dense(n_notes, activation = 'softmax', name = 'pitch')(c)\n",
        "#     durations_out = Dense(n_durations, activation = 'softmax', name = 'duration')(c)\n",
        "   \n",
        "#     model = Model([notes_in, durations_in], [notes_out, durations_out])\n",
        "\n",
        "#     opti = RMSprop(lr = 0.001)\n",
        "#     model.compile(loss=['categorical_crossentropy', 'categorical_crossentropy'], optimizer=opti)\n",
        "\n",
        "#     return model"
      ],
      "execution_count": 0,
      "outputs": []
    },
    {
      "cell_type": "markdown",
      "metadata": {
        "id": "Ltb-JhGAVh57",
        "colab_type": "text"
      },
      "source": [
        "# LSTM with Attention"
      ]
    },
    {
      "cell_type": "code",
      "metadata": {
        "id": "OfIGnC8hVYpz",
        "colab_type": "code",
        "colab": {}
      },
      "source": [
        "# def create_network(n_notes, n_durations, embed_size = 100, rnn_units = 256):\n",
        "#     \"\"\" create network with attention \"\"\"\n",
        "\n",
        "#     notes_in = Input(shape = (None,))\n",
        "#     durations_in = Input(shape = (None,))\n",
        "\n",
        "#     x1 = Embedding(n_notes, embed_size)(notes_in)\n",
        "#     x2 = Embedding(n_durations, embed_size)(durations_in) \n",
        "\n",
        "#     x = Concatenate()([x1,x2])\n",
        "#     x = LSTM(rnn_units, return_sequences=True)(x)\n",
        "#     x = LSTM(rnn_units, return_sequences=True)(x)\n",
        "\n",
        "#     e = Dense(1, activation='tanh')(x)\n",
        "#     e = Reshape([-1])(e)\n",
        "#     alpha = Activation('softmax')(e)\n",
        "#     alpha_repeated = Permute([2, 1])(RepeatVector(rnn_units)(alpha))\n",
        "\n",
        "#     c = Multiply()([x, alpha_repeated])\n",
        "#     c = Lambda(lambda xin: K.sum(xin, axis=1), output_shape=(rnn_units,))(c)\n",
        "                                    \n",
        "#     notes_out = Dense(n_notes, activation = 'softmax', name = 'pitch')(c)\n",
        "#     durations_out = Dense(n_durations, activation = 'softmax', name = 'duration')(c)\n",
        "   \n",
        "#     model = Model([notes_in, durations_in], [notes_out, durations_out])\n",
        "\n",
        "#     opti = RMSprop(lr = 0.001)\n",
        "#     model.compile(loss=['categorical_crossentropy', 'categorical_crossentropy'], optimizer=opti)\n",
        "\n",
        "#     return model"
      ],
      "execution_count": 0,
      "outputs": []
    },
    {
      "cell_type": "markdown",
      "metadata": {
        "id": "hWFDyoLzqFlV",
        "colab_type": "text"
      },
      "source": [
        "# Change Log\n",
        "1. add changes here"
      ]
    },
    {
      "cell_type": "markdown",
      "metadata": {
        "id": "m4jEym2Wc_lu",
        "colab_type": "text"
      },
      "source": [
        "# Current Development Version"
      ]
    },
    {
      "cell_type": "code",
      "metadata": {
        "id": "lqjc_FAiclno",
        "colab_type": "code",
        "colab": {}
      },
      "source": [
        "def create_network(n_notes, n_durations, embed_size = 100, rnn_units = 256):\n",
        "\n",
        "    notes_in = Input(shape = (None,))\n",
        "    durations_in = Input(shape = (None,))\n",
        "\n",
        "    x1 = Embedding(n_notes, embed_size)(notes_in)\n",
        "    x2 = Embedding(n_durations, embed_size)(durations_in) \n",
        "\n",
        "    x = Concatenate()([x1,x2])\n",
        "    x = Bidirectional(LSTM(rnn_units, return_sequences=True))(x)\n",
        "    x = LSTM(rnn_units, return_sequences=True)(x)\n",
        "\n",
        "    e = Dense(1, activation='tanh')(x)\n",
        "    e = Reshape([-1])(e)\n",
        "    alpha = Activation('softmax')(e)\n",
        "    alpha_repeated = Permute([2, 1])(RepeatVector(rnn_units)(alpha))\n",
        "\n",
        "    c = Multiply()([x, alpha_repeated])\n",
        "    c = Lambda(lambda xin: K.sum(xin, axis=1), output_shape=(rnn_units,))(c)\n",
        "                                    \n",
        "    notes_out = Dense(n_notes, activation = 'softmax', name = 'pitch')(c)\n",
        "    durations_out = Dense(n_durations, activation = 'softmax', name = 'duration')(c)\n",
        "   \n",
        "    model = Model([notes_in, durations_in], [notes_out, durations_out])\n",
        "\n",
        "    opti = RMSprop(lr = 0.001)\n",
        "    model.compile(loss=['categorical_crossentropy', 'categorical_crossentropy'], optimizer=opti)\n",
        "\n",
        "    return model"
      ],
      "execution_count": 0,
      "outputs": []
    },
    {
      "cell_type": "code",
      "metadata": {
        "id": "mo-SFiwlwMeC",
        "colab_type": "code",
        "outputId": "b49b149a-b4be-4135-b6a9-149697a6612a",
        "colab": {
          "base_uri": "https://localhost:8080/",
          "height": 722
        }
      },
      "source": [
        "model = create_network(n_notes, n_durations, embed_size, rnn_units)\n",
        "model.summary()"
      ],
      "execution_count": 0,
      "outputs": [
        {
          "output_type": "stream",
          "text": [
            "Model: \"model\"\n",
            "__________________________________________________________________________________________________\n",
            "Layer (type)                    Output Shape         Param #     Connected to                     \n",
            "==================================================================================================\n",
            "input_1 (InputLayer)            [(None, None)]       0                                            \n",
            "__________________________________________________________________________________________________\n",
            "input_2 (InputLayer)            [(None, None)]       0                                            \n",
            "__________________________________________________________________________________________________\n",
            "embedding (Embedding)           (None, None, 100)    45600       input_1[0][0]                    \n",
            "__________________________________________________________________________________________________\n",
            "embedding_1 (Embedding)         (None, None, 100)    1900        input_2[0][0]                    \n",
            "__________________________________________________________________________________________________\n",
            "concatenate (Concatenate)       (None, None, 200)    0           embedding[0][0]                  \n",
            "                                                                 embedding_1[0][0]                \n",
            "__________________________________________________________________________________________________\n",
            "bidirectional (Bidirectional)   (None, None, 512)    935936      concatenate[0][0]                \n",
            "__________________________________________________________________________________________________\n",
            "lstm_1 (LSTM)                   (None, None, 256)    787456      bidirectional[0][0]              \n",
            "__________________________________________________________________________________________________\n",
            "dense (Dense)                   (None, None, 1)      257         lstm_1[0][0]                     \n",
            "__________________________________________________________________________________________________\n",
            "reshape (Reshape)               (None, None)         0           dense[0][0]                      \n",
            "__________________________________________________________________________________________________\n",
            "activation (Activation)         (None, None)         0           reshape[0][0]                    \n",
            "__________________________________________________________________________________________________\n",
            "repeat_vector (RepeatVector)    (None, 256, None)    0           activation[0][0]                 \n",
            "__________________________________________________________________________________________________\n",
            "permute (Permute)               (None, None, 256)    0           repeat_vector[0][0]              \n",
            "__________________________________________________________________________________________________\n",
            "multiply (Multiply)             (None, None, 256)    0           lstm_1[0][0]                     \n",
            "                                                                 permute[0][0]                    \n",
            "__________________________________________________________________________________________________\n",
            "lambda (Lambda)                 (None, 256)          0           multiply[0][0]                   \n",
            "__________________________________________________________________________________________________\n",
            "pitch (Dense)                   (None, 456)          117192      lambda[0][0]                     \n",
            "__________________________________________________________________________________________________\n",
            "duration (Dense)                (None, 19)           4883        lambda[0][0]                     \n",
            "==================================================================================================\n",
            "Total params: 1,893,224\n",
            "Trainable params: 1,893,224\n",
            "Non-trainable params: 0\n",
            "__________________________________________________________________________________________________\n"
          ],
          "name": "stdout"
        }
      ]
    },
    {
      "cell_type": "code",
      "metadata": {
        "id": "f7LtbzpAUiue",
        "colab_type": "code",
        "outputId": "48db9d38-ba77-4e3e-e319-b0b68ea5c86a",
        "colab": {
          "base_uri": "https://localhost:8080/",
          "height": 34
        }
      },
      "source": [
        "run_folder"
      ],
      "execution_count": 0,
      "outputs": [
        {
          "output_type": "execute_result",
          "data": {
            "text/plain": [
              "'/content/gdrive/My Drive/cs230/run/compose/002_cello'"
            ]
          },
          "metadata": {
            "tags": []
          },
          "execution_count": 19
        }
      ]
    },
    {
      "cell_type": "markdown",
      "metadata": {
        "id": "ShCOOQz4JIn7",
        "colab_type": "text"
      },
      "source": [
        "#Training"
      ]
    },
    {
      "cell_type": "code",
      "metadata": {
        "id": "HLALM8YDJKQ5",
        "colab_type": "code",
        "colab": {}
      },
      "source": [
        "weights_folder = os.path.join(run_folder, 'weights')"
      ],
      "execution_count": 0,
      "outputs": []
    },
    {
      "cell_type": "code",
      "metadata": {
        "id": "Aj81WVO8JSgY",
        "colab_type": "code",
        "outputId": "a7cd18fb-02ba-4104-aef7-3250c42dcc8f",
        "colab": {
          "base_uri": "https://localhost:8080/",
          "height": 1000
        }
      },
      "source": [
        "checkpoint1 = ModelCheckpoint(\n",
        "    os.path.join(weights_folder, \"weights-improvement-{epoch:02d}-{loss:.4f}-bigger.h5\"),\n",
        "    monitor='loss',\n",
        "    verbose=0,\n",
        "    save_best_only=True,\n",
        "    mode='min'\n",
        ")\n",
        "\n",
        "checkpoint2 = ModelCheckpoint(\n",
        "    os.path.join(weights_folder, \"weights.h5\"),\n",
        "    monitor='loss',\n",
        "    verbose=0,\n",
        "    save_best_only=True,\n",
        "    mode='min'\n",
        ")\n",
        "\n",
        "early_stopping = EarlyStopping(\n",
        "    monitor='loss'\n",
        "    , restore_best_weights=True\n",
        "    , patience = 10\n",
        ")\n",
        "\n",
        "\n",
        "callbacks_list = [\n",
        "    checkpoint1\n",
        "    , checkpoint2\n",
        "    , early_stopping\n",
        " ]\n",
        "\n",
        "model.save_weights(os.path.join(weights_folder, \"weights.h5\"))\n",
        "model.fit(network_input, network_output\n",
        "          , epochs=2000000, batch_size=32\n",
        "          , validation_split = 0.2\n",
        "          , callbacks=callbacks_list\n",
        "          , shuffle=True\n",
        "         )\n"
      ],
      "execution_count": 0,
      "outputs": [
        {
          "output_type": "stream",
          "text": [
            "Epoch 1/2000000\n",
            "720/720 [==============================] - 14s 19ms/step - loss: 3.9687 - pitch_loss: 3.2680 - duration_loss: 0.7007 - val_loss: 4.6908 - val_pitch_loss: 3.9020 - val_duration_loss: 0.7888\n",
            "Epoch 2/2000000\n",
            "720/720 [==============================] - 12s 17ms/step - loss: 3.4610 - pitch_loss: 2.9139 - duration_loss: 0.5471 - val_loss: 4.8594 - val_pitch_loss: 4.0505 - val_duration_loss: 0.8089\n",
            "Epoch 3/2000000\n",
            "720/720 [==============================] - 12s 17ms/step - loss: 3.2768 - pitch_loss: 2.7753 - duration_loss: 0.5015 - val_loss: 4.6424 - val_pitch_loss: 3.7960 - val_duration_loss: 0.8464\n",
            "Epoch 4/2000000\n",
            "720/720 [==============================] - 12s 17ms/step - loss: 3.0968 - pitch_loss: 2.6289 - duration_loss: 0.4679 - val_loss: 4.8405 - val_pitch_loss: 4.0061 - val_duration_loss: 0.8344\n",
            "Epoch 5/2000000\n",
            "720/720 [==============================] - 12s 17ms/step - loss: 2.9126 - pitch_loss: 2.4819 - duration_loss: 0.4308 - val_loss: 4.9455 - val_pitch_loss: 4.0789 - val_duration_loss: 0.8667\n",
            "Epoch 6/2000000\n",
            "720/720 [==============================] - 12s 17ms/step - loss: 2.7108 - pitch_loss: 2.3242 - duration_loss: 0.3866 - val_loss: 4.8268 - val_pitch_loss: 3.9613 - val_duration_loss: 0.8655\n",
            "Epoch 7/2000000\n",
            "720/720 [==============================] - 12s 17ms/step - loss: 2.4891 - pitch_loss: 2.1486 - duration_loss: 0.3405 - val_loss: 5.3669 - val_pitch_loss: 4.3835 - val_duration_loss: 0.9834\n",
            "Epoch 8/2000000\n",
            "720/720 [==============================] - 12s 17ms/step - loss: 2.2517 - pitch_loss: 1.9591 - duration_loss: 0.2927 - val_loss: 5.4660 - val_pitch_loss: 4.4608 - val_duration_loss: 1.0052\n",
            "Epoch 9/2000000\n",
            "720/720 [==============================] - 12s 17ms/step - loss: 1.9964 - pitch_loss: 1.7551 - duration_loss: 0.2414 - val_loss: 5.5737 - val_pitch_loss: 4.4291 - val_duration_loss: 1.1446\n",
            "Epoch 10/2000000\n",
            "720/720 [==============================] - 12s 17ms/step - loss: 1.7451 - pitch_loss: 1.5443 - duration_loss: 0.2008 - val_loss: 5.9286 - val_pitch_loss: 4.7109 - val_duration_loss: 1.2177\n",
            "Epoch 11/2000000\n",
            "720/720 [==============================] - 12s 17ms/step - loss: 1.5022 - pitch_loss: 1.3425 - duration_loss: 0.1597 - val_loss: 6.2154 - val_pitch_loss: 4.8860 - val_duration_loss: 1.3294\n",
            "Epoch 12/2000000\n",
            "720/720 [==============================] - 12s 17ms/step - loss: 1.2779 - pitch_loss: 1.1471 - duration_loss: 0.1308 - val_loss: 6.3725 - val_pitch_loss: 5.0324 - val_duration_loss: 1.3401\n",
            "Epoch 13/2000000\n",
            "720/720 [==============================] - 12s 17ms/step - loss: 1.0853 - pitch_loss: 0.9792 - duration_loss: 0.1061 - val_loss: 7.4845 - val_pitch_loss: 5.7783 - val_duration_loss: 1.7062\n",
            "Epoch 14/2000000\n",
            "720/720 [==============================] - 12s 17ms/step - loss: 0.9480 - pitch_loss: 0.8570 - duration_loss: 0.0910 - val_loss: 7.0736 - val_pitch_loss: 5.3753 - val_duration_loss: 1.6983\n",
            "Epoch 15/2000000\n",
            "720/720 [==============================] - 12s 16ms/step - loss: 0.8214 - pitch_loss: 0.7452 - duration_loss: 0.0762 - val_loss: 7.6755 - val_pitch_loss: 5.7340 - val_duration_loss: 1.9415\n",
            "Epoch 16/2000000\n",
            "720/720 [==============================] - 12s 16ms/step - loss: 0.7283 - pitch_loss: 0.6635 - duration_loss: 0.0648 - val_loss: 7.6822 - val_pitch_loss: 5.7693 - val_duration_loss: 1.9128\n",
            "Epoch 17/2000000\n",
            "720/720 [==============================] - 11s 16ms/step - loss: 0.6559 - pitch_loss: 0.5996 - duration_loss: 0.0563 - val_loss: 7.9024 - val_pitch_loss: 5.9502 - val_duration_loss: 1.9522\n",
            "Epoch 18/2000000\n",
            "720/720 [==============================] - 12s 16ms/step - loss: 0.5989 - pitch_loss: 0.5492 - duration_loss: 0.0498 - val_loss: 8.4626 - val_pitch_loss: 6.1296 - val_duration_loss: 2.3330\n",
            "Epoch 19/2000000\n",
            "720/720 [==============================] - 12s 16ms/step - loss: 0.5607 - pitch_loss: 0.5158 - duration_loss: 0.0449 - val_loss: 8.2715 - val_pitch_loss: 6.0963 - val_duration_loss: 2.1752\n",
            "Epoch 20/2000000\n",
            "720/720 [==============================] - 12s 16ms/step - loss: 0.5362 - pitch_loss: 0.4945 - duration_loss: 0.0417 - val_loss: 8.3514 - val_pitch_loss: 6.2363 - val_duration_loss: 2.1152\n",
            "Epoch 21/2000000\n",
            "720/720 [==============================] - 11s 16ms/step - loss: 0.5002 - pitch_loss: 0.4641 - duration_loss: 0.0360 - val_loss: 8.9335 - val_pitch_loss: 6.5673 - val_duration_loss: 2.3661\n",
            "Epoch 22/2000000\n",
            "720/720 [==============================] - 11s 16ms/step - loss: 0.4787 - pitch_loss: 0.4430 - duration_loss: 0.0357 - val_loss: 8.8459 - val_pitch_loss: 6.5372 - val_duration_loss: 2.3088\n",
            "Epoch 23/2000000\n",
            "720/720 [==============================] - 11s 16ms/step - loss: 0.4581 - pitch_loss: 0.4253 - duration_loss: 0.0328 - val_loss: 8.9722 - val_pitch_loss: 6.5574 - val_duration_loss: 2.4148\n",
            "Epoch 24/2000000\n",
            "720/720 [==============================] - 11s 16ms/step - loss: 0.4428 - pitch_loss: 0.4105 - duration_loss: 0.0323 - val_loss: 9.2300 - val_pitch_loss: 6.7548 - val_duration_loss: 2.4752\n",
            "Epoch 25/2000000\n",
            "720/720 [==============================] - 12s 16ms/step - loss: 0.4223 - pitch_loss: 0.3929 - duration_loss: 0.0294 - val_loss: 9.2871 - val_pitch_loss: 6.7928 - val_duration_loss: 2.4942\n",
            "Epoch 26/2000000\n",
            "720/720 [==============================] - 12s 17ms/step - loss: 0.3928 - pitch_loss: 0.3655 - duration_loss: 0.0273 - val_loss: 9.2974 - val_pitch_loss: 6.7461 - val_duration_loss: 2.5513\n",
            "Epoch 27/2000000\n",
            "720/720 [==============================] - 12s 17ms/step - loss: 0.3663 - pitch_loss: 0.3430 - duration_loss: 0.0232 - val_loss: 9.1744 - val_pitch_loss: 6.8084 - val_duration_loss: 2.3660\n",
            "Epoch 28/2000000\n",
            "720/720 [==============================] - 12s 17ms/step - loss: 0.3453 - pitch_loss: 0.3204 - duration_loss: 0.0248 - val_loss: 9.6344 - val_pitch_loss: 6.9671 - val_duration_loss: 2.6673\n",
            "Epoch 29/2000000\n",
            "720/720 [==============================] - 11s 16ms/step - loss: 0.3270 - pitch_loss: 0.3045 - duration_loss: 0.0226 - val_loss: 9.4173 - val_pitch_loss: 6.8739 - val_duration_loss: 2.5434\n",
            "Epoch 30/2000000\n",
            "720/720 [==============================] - 12s 16ms/step - loss: 0.3111 - pitch_loss: 0.2888 - duration_loss: 0.0223 - val_loss: 9.6618 - val_pitch_loss: 7.0877 - val_duration_loss: 2.5741\n",
            "Epoch 31/2000000\n",
            "720/720 [==============================] - 11s 16ms/step - loss: 0.2955 - pitch_loss: 0.2717 - duration_loss: 0.0238 - val_loss: 9.7131 - val_pitch_loss: 7.0138 - val_duration_loss: 2.6993\n",
            "Epoch 32/2000000\n",
            "720/720 [==============================] - 11s 16ms/step - loss: 0.2769 - pitch_loss: 0.2571 - duration_loss: 0.0199 - val_loss: 9.5614 - val_pitch_loss: 6.8720 - val_duration_loss: 2.6894\n",
            "Epoch 33/2000000\n",
            "720/720 [==============================] - 11s 16ms/step - loss: 0.2595 - pitch_loss: 0.2395 - duration_loss: 0.0201 - val_loss: 9.7857 - val_pitch_loss: 7.1599 - val_duration_loss: 2.6259\n",
            "Epoch 34/2000000\n",
            "720/720 [==============================] - 11s 16ms/step - loss: 0.2485 - pitch_loss: 0.2278 - duration_loss: 0.0207 - val_loss: 10.0604 - val_pitch_loss: 7.3482 - val_duration_loss: 2.7123\n",
            "Epoch 35/2000000\n",
            "720/720 [==============================] - 11s 16ms/step - loss: 0.2383 - pitch_loss: 0.2180 - duration_loss: 0.0203 - val_loss: 10.2012 - val_pitch_loss: 7.2678 - val_duration_loss: 2.9335\n",
            "Epoch 36/2000000\n",
            "720/720 [==============================] - 11s 16ms/step - loss: 0.2202 - pitch_loss: 0.2019 - duration_loss: 0.0183 - val_loss: 9.9136 - val_pitch_loss: 7.2708 - val_duration_loss: 2.6428\n",
            "Epoch 37/2000000\n",
            "720/720 [==============================] - 11s 16ms/step - loss: 0.2122 - pitch_loss: 0.1939 - duration_loss: 0.0183 - val_loss: 10.3046 - val_pitch_loss: 7.4017 - val_duration_loss: 2.9029\n",
            "Epoch 38/2000000\n",
            "720/720 [==============================] - 12s 16ms/step - loss: 0.1988 - pitch_loss: 0.1812 - duration_loss: 0.0176 - val_loss: 10.1708 - val_pitch_loss: 7.3395 - val_duration_loss: 2.8313\n",
            "Epoch 39/2000000\n",
            "720/720 [==============================] - 11s 16ms/step - loss: 0.1936 - pitch_loss: 0.1763 - duration_loss: 0.0173 - val_loss: 10.3280 - val_pitch_loss: 7.4614 - val_duration_loss: 2.8666\n",
            "Epoch 40/2000000\n",
            "720/720 [==============================] - 12s 16ms/step - loss: 0.1855 - pitch_loss: 0.1678 - duration_loss: 0.0177 - val_loss: 10.2769 - val_pitch_loss: 7.4077 - val_duration_loss: 2.8691\n",
            "Epoch 41/2000000\n",
            "720/720 [==============================] - 11s 16ms/step - loss: 0.1707 - pitch_loss: 0.1541 - duration_loss: 0.0167 - val_loss: 10.4198 - val_pitch_loss: 7.4741 - val_duration_loss: 2.9457\n",
            "Epoch 42/2000000\n",
            "720/720 [==============================] - 12s 16ms/step - loss: 0.1649 - pitch_loss: 0.1458 - duration_loss: 0.0192 - val_loss: 10.2892 - val_pitch_loss: 7.3937 - val_duration_loss: 2.8955\n",
            "Epoch 43/2000000\n",
            "720/720 [==============================] - 12s 16ms/step - loss: 0.1576 - pitch_loss: 0.1388 - duration_loss: 0.0188 - val_loss: 10.4712 - val_pitch_loss: 7.5320 - val_duration_loss: 2.9391\n",
            "Epoch 44/2000000\n",
            "720/720 [==============================] - 12s 16ms/step - loss: 0.1526 - pitch_loss: 0.1367 - duration_loss: 0.0159 - val_loss: 10.4907 - val_pitch_loss: 7.5671 - val_duration_loss: 2.9236\n",
            "Epoch 45/2000000\n",
            "720/720 [==============================] - 12s 16ms/step - loss: 0.1460 - pitch_loss: 0.1293 - duration_loss: 0.0168 - val_loss: 10.2615 - val_pitch_loss: 7.3453 - val_duration_loss: 2.9162\n",
            "Epoch 46/2000000\n",
            "720/720 [==============================] - 12s 16ms/step - loss: 0.1372 - pitch_loss: 0.1214 - duration_loss: 0.0157 - val_loss: 10.4688 - val_pitch_loss: 7.4777 - val_duration_loss: 2.9910\n",
            "Epoch 47/2000000\n",
            "720/720 [==============================] - 12s 16ms/step - loss: 0.1323 - pitch_loss: 0.1157 - duration_loss: 0.0166 - val_loss: 10.6529 - val_pitch_loss: 7.5574 - val_duration_loss: 3.0955\n",
            "Epoch 48/2000000\n",
            "720/720 [==============================] - 12s 16ms/step - loss: 0.1281 - pitch_loss: 0.1129 - duration_loss: 0.0152 - val_loss: 10.6692 - val_pitch_loss: 7.6714 - val_duration_loss: 2.9979\n",
            "Epoch 49/2000000\n",
            "720/720 [==============================] - 12s 16ms/step - loss: 0.1238 - pitch_loss: 0.1063 - duration_loss: 0.0175 - val_loss: 10.5871 - val_pitch_loss: 7.7366 - val_duration_loss: 2.8505\n",
            "Epoch 50/2000000\n",
            "720/720 [==============================] - 12s 16ms/step - loss: 0.1195 - pitch_loss: 0.1033 - duration_loss: 0.0162 - val_loss: 10.9538 - val_pitch_loss: 7.7637 - val_duration_loss: 3.1901\n",
            "Epoch 51/2000000\n",
            "720/720 [==============================] - 12s 16ms/step - loss: 0.1121 - pitch_loss: 0.0972 - duration_loss: 0.0149 - val_loss: 10.8616 - val_pitch_loss: 7.9315 - val_duration_loss: 2.9300\n",
            "Epoch 52/2000000\n",
            "720/720 [==============================] - 12s 16ms/step - loss: 0.1069 - pitch_loss: 0.0923 - duration_loss: 0.0146 - val_loss: 10.8095 - val_pitch_loss: 7.6477 - val_duration_loss: 3.1618\n",
            "Epoch 53/2000000\n",
            "720/720 [==============================] - 12s 16ms/step - loss: 0.0981 - pitch_loss: 0.0840 - duration_loss: 0.0141 - val_loss: 10.7536 - val_pitch_loss: 7.6938 - val_duration_loss: 3.0598\n",
            "Epoch 54/2000000\n",
            "720/720 [==============================] - 12s 17ms/step - loss: 0.0953 - pitch_loss: 0.0810 - duration_loss: 0.0144 - val_loss: 11.1588 - val_pitch_loss: 7.9299 - val_duration_loss: 3.2289\n",
            "Epoch 55/2000000\n",
            "720/720 [==============================] - 12s 16ms/step - loss: 0.0925 - pitch_loss: 0.0788 - duration_loss: 0.0137 - val_loss: 11.3161 - val_pitch_loss: 7.9199 - val_duration_loss: 3.3961\n",
            "Epoch 56/2000000\n",
            "720/720 [==============================] - 11s 16ms/step - loss: 0.0937 - pitch_loss: 0.0799 - duration_loss: 0.0138 - val_loss: 10.9356 - val_pitch_loss: 7.8801 - val_duration_loss: 3.0554\n",
            "Epoch 57/2000000\n",
            "720/720 [==============================] - 12s 17ms/step - loss: 0.0871 - pitch_loss: 0.0731 - duration_loss: 0.0140 - val_loss: 11.1711 - val_pitch_loss: 8.0285 - val_duration_loss: 3.1426\n",
            "Epoch 58/2000000\n",
            "720/720 [==============================] - 12s 17ms/step - loss: 0.0858 - pitch_loss: 0.0713 - duration_loss: 0.0146 - val_loss: 10.8845 - val_pitch_loss: 7.8124 - val_duration_loss: 3.0721\n",
            "Epoch 59/2000000\n",
            "720/720 [==============================] - 12s 16ms/step - loss: 0.0827 - pitch_loss: 0.0682 - duration_loss: 0.0145 - val_loss: 11.0697 - val_pitch_loss: 7.9688 - val_duration_loss: 3.1010\n",
            "Epoch 60/2000000\n",
            "720/720 [==============================] - 12s 16ms/step - loss: 0.0809 - pitch_loss: 0.0672 - duration_loss: 0.0138 - val_loss: 11.1775 - val_pitch_loss: 8.0376 - val_duration_loss: 3.1399\n",
            "Epoch 61/2000000\n",
            "720/720 [==============================] - 12s 16ms/step - loss: 0.0784 - pitch_loss: 0.0656 - duration_loss: 0.0128 - val_loss: 11.3026 - val_pitch_loss: 8.1386 - val_duration_loss: 3.1640\n",
            "Epoch 62/2000000\n",
            "720/720 [==============================] - 12s 16ms/step - loss: 0.0744 - pitch_loss: 0.0609 - duration_loss: 0.0135 - val_loss: 11.5140 - val_pitch_loss: 8.0904 - val_duration_loss: 3.4236\n",
            "Epoch 63/2000000\n",
            "720/720 [==============================] - 12s 16ms/step - loss: 0.0707 - pitch_loss: 0.0585 - duration_loss: 0.0123 - val_loss: 11.7510 - val_pitch_loss: 8.3751 - val_duration_loss: 3.3759\n",
            "Epoch 64/2000000\n",
            "720/720 [==============================] - 11s 16ms/step - loss: 0.0707 - pitch_loss: 0.0568 - duration_loss: 0.0139 - val_loss: 11.9191 - val_pitch_loss: 8.5462 - val_duration_loss: 3.3729\n",
            "Epoch 65/2000000\n",
            "720/720 [==============================] - 11s 16ms/step - loss: 0.0726 - pitch_loss: 0.0584 - duration_loss: 0.0142 - val_loss: 11.8435 - val_pitch_loss: 8.4974 - val_duration_loss: 3.3461\n",
            "Epoch 66/2000000\n",
            "720/720 [==============================] - 12s 17ms/step - loss: 0.0693 - pitch_loss: 0.0552 - duration_loss: 0.0141 - val_loss: 11.5428 - val_pitch_loss: 8.4299 - val_duration_loss: 3.1128\n",
            "Epoch 67/2000000\n",
            "720/720 [==============================] - 12s 17ms/step - loss: 0.0673 - pitch_loss: 0.0549 - duration_loss: 0.0124 - val_loss: 11.7654 - val_pitch_loss: 8.4947 - val_duration_loss: 3.2707\n",
            "Epoch 68/2000000\n",
            "720/720 [==============================] - 11s 16ms/step - loss: 0.0679 - pitch_loss: 0.0544 - duration_loss: 0.0135 - val_loss: 11.6260 - val_pitch_loss: 8.4441 - val_duration_loss: 3.1819\n",
            "Epoch 69/2000000\n",
            "720/720 [==============================] - 12s 17ms/step - loss: 0.0653 - pitch_loss: 0.0515 - duration_loss: 0.0138 - val_loss: 11.9045 - val_pitch_loss: 8.6194 - val_duration_loss: 3.2851\n",
            "Epoch 70/2000000\n",
            "720/720 [==============================] - 12s 17ms/step - loss: 0.0647 - pitch_loss: 0.0509 - duration_loss: 0.0137 - val_loss: 11.9405 - val_pitch_loss: 8.5545 - val_duration_loss: 3.3859\n",
            "Epoch 71/2000000\n",
            "720/720 [==============================] - 12s 17ms/step - loss: 0.0645 - pitch_loss: 0.0510 - duration_loss: 0.0135 - val_loss: 11.8835 - val_pitch_loss: 8.5550 - val_duration_loss: 3.3285\n",
            "Epoch 72/2000000\n",
            "720/720 [==============================] - 12s 17ms/step - loss: 0.0644 - pitch_loss: 0.0512 - duration_loss: 0.0132 - val_loss: 11.9994 - val_pitch_loss: 8.5390 - val_duration_loss: 3.4605\n",
            "Epoch 73/2000000\n",
            "720/720 [==============================] - 12s 17ms/step - loss: 0.0611 - pitch_loss: 0.0490 - duration_loss: 0.0121 - val_loss: 11.8315 - val_pitch_loss: 8.4487 - val_duration_loss: 3.3828\n",
            "Epoch 74/2000000\n",
            "720/720 [==============================] - 12s 17ms/step - loss: 0.0602 - pitch_loss: 0.0470 - duration_loss: 0.0132 - val_loss: 12.0882 - val_pitch_loss: 8.6841 - val_duration_loss: 3.4041\n",
            "Epoch 75/2000000\n",
            "720/720 [==============================] - 12s 17ms/step - loss: 0.0583 - pitch_loss: 0.0459 - duration_loss: 0.0124 - val_loss: 11.9087 - val_pitch_loss: 8.5509 - val_duration_loss: 3.3578\n",
            "Epoch 76/2000000\n",
            "720/720 [==============================] - 13s 18ms/step - loss: 0.0560 - pitch_loss: 0.0439 - duration_loss: 0.0121 - val_loss: 11.8055 - val_pitch_loss: 8.5520 - val_duration_loss: 3.2535\n",
            "Epoch 77/2000000\n",
            "720/720 [==============================] - 12s 17ms/step - loss: 0.0543 - pitch_loss: 0.0423 - duration_loss: 0.0121 - val_loss: 12.2360 - val_pitch_loss: 8.6717 - val_duration_loss: 3.5643\n",
            "Epoch 78/2000000\n",
            "720/720 [==============================] - 11s 16ms/step - loss: 0.0596 - pitch_loss: 0.0466 - duration_loss: 0.0130 - val_loss: 12.1095 - val_pitch_loss: 8.6324 - val_duration_loss: 3.4771\n",
            "Epoch 79/2000000\n",
            "720/720 [==============================] - 11s 16ms/step - loss: 0.0593 - pitch_loss: 0.0470 - duration_loss: 0.0124 - val_loss: 12.1525 - val_pitch_loss: 8.4907 - val_duration_loss: 3.6618\n",
            "Epoch 80/2000000\n",
            "720/720 [==============================] - 12s 16ms/step - loss: 0.0564 - pitch_loss: 0.0430 - duration_loss: 0.0134 - val_loss: 12.2231 - val_pitch_loss: 8.6826 - val_duration_loss: 3.5405\n",
            "Epoch 81/2000000\n",
            "720/720 [==============================] - 12s 16ms/step - loss: 0.0560 - pitch_loss: 0.0440 - duration_loss: 0.0120 - val_loss: 12.0595 - val_pitch_loss: 8.6892 - val_duration_loss: 3.3703\n",
            "Epoch 82/2000000\n",
            "720/720 [==============================] - 11s 16ms/step - loss: 0.0546 - pitch_loss: 0.0400 - duration_loss: 0.0146 - val_loss: 12.1278 - val_pitch_loss: 8.6272 - val_duration_loss: 3.5007\n",
            "Epoch 83/2000000\n",
            "720/720 [==============================] - 12s 17ms/step - loss: 0.0533 - pitch_loss: 0.0422 - duration_loss: 0.0111 - val_loss: 12.2224 - val_pitch_loss: 8.5733 - val_duration_loss: 3.6491\n",
            "Epoch 84/2000000\n",
            "720/720 [==============================] - 12s 17ms/step - loss: 0.0506 - pitch_loss: 0.0385 - duration_loss: 0.0121 - val_loss: 12.2187 - val_pitch_loss: 8.6530 - val_duration_loss: 3.5657\n",
            "Epoch 85/2000000\n",
            "720/720 [==============================] - 11s 16ms/step - loss: 0.0534 - pitch_loss: 0.0406 - duration_loss: 0.0127 - val_loss: 12.2220 - val_pitch_loss: 8.7142 - val_duration_loss: 3.5078\n",
            "Epoch 86/2000000\n",
            "720/720 [==============================] - 11s 16ms/step - loss: 0.0516 - pitch_loss: 0.0402 - duration_loss: 0.0114 - val_loss: 11.7853 - val_pitch_loss: 8.6501 - val_duration_loss: 3.1352\n",
            "Epoch 87/2000000\n",
            "720/720 [==============================] - 11s 16ms/step - loss: 0.0510 - pitch_loss: 0.0386 - duration_loss: 0.0125 - val_loss: 12.1766 - val_pitch_loss: 8.7608 - val_duration_loss: 3.4158\n",
            "Epoch 88/2000000\n",
            "720/720 [==============================] - 12s 17ms/step - loss: 0.0478 - pitch_loss: 0.0360 - duration_loss: 0.0118 - val_loss: 12.1300 - val_pitch_loss: 8.7303 - val_duration_loss: 3.3997\n",
            "Epoch 89/2000000\n",
            "720/720 [==============================] - 11s 16ms/step - loss: 0.0494 - pitch_loss: 0.0386 - duration_loss: 0.0109 - val_loss: 12.1675 - val_pitch_loss: 8.7983 - val_duration_loss: 3.3692\n",
            "Epoch 90/2000000\n",
            "720/720 [==============================] - 11s 16ms/step - loss: 0.0487 - pitch_loss: 0.0376 - duration_loss: 0.0111 - val_loss: 12.5461 - val_pitch_loss: 9.1295 - val_duration_loss: 3.4166\n",
            "Epoch 91/2000000\n",
            "720/720 [==============================] - 11s 16ms/step - loss: 0.0480 - pitch_loss: 0.0365 - duration_loss: 0.0115 - val_loss: 12.4364 - val_pitch_loss: 9.0097 - val_duration_loss: 3.4267\n",
            "Epoch 92/2000000\n",
            "720/720 [==============================] - 12s 17ms/step - loss: 0.0470 - pitch_loss: 0.0351 - duration_loss: 0.0119 - val_loss: 12.4794 - val_pitch_loss: 8.9240 - val_duration_loss: 3.5554\n",
            "Epoch 93/2000000\n",
            "720/720 [==============================] - 11s 16ms/step - loss: 0.0478 - pitch_loss: 0.0361 - duration_loss: 0.0117 - val_loss: 12.8114 - val_pitch_loss: 9.1442 - val_duration_loss: 3.6673\n",
            "Epoch 94/2000000\n",
            "720/720 [==============================] - 11s 16ms/step - loss: 0.0503 - pitch_loss: 0.0377 - duration_loss: 0.0126 - val_loss: 12.5657 - val_pitch_loss: 8.9441 - val_duration_loss: 3.6217\n",
            "Epoch 95/2000000\n",
            "720/720 [==============================] - 11s 16ms/step - loss: 0.0495 - pitch_loss: 0.0383 - duration_loss: 0.0112 - val_loss: 12.6197 - val_pitch_loss: 8.9136 - val_duration_loss: 3.7061\n",
            "Epoch 96/2000000\n",
            "720/720 [==============================] - 12s 17ms/step - loss: 0.0463 - pitch_loss: 0.0351 - duration_loss: 0.0112 - val_loss: 12.6698 - val_pitch_loss: 9.0710 - val_duration_loss: 3.5988\n",
            "Epoch 97/2000000\n",
            "720/720 [==============================] - 12s 17ms/step - loss: 0.0452 - pitch_loss: 0.0342 - duration_loss: 0.0110 - val_loss: 12.9393 - val_pitch_loss: 9.2445 - val_duration_loss: 3.6948\n",
            "Epoch 98/2000000\n",
            "720/720 [==============================] - 11s 16ms/step - loss: 0.0452 - pitch_loss: 0.0342 - duration_loss: 0.0110 - val_loss: 12.7942 - val_pitch_loss: 9.1401 - val_duration_loss: 3.6542\n",
            "Epoch 99/2000000\n",
            "720/720 [==============================] - 12s 17ms/step - loss: 0.0444 - pitch_loss: 0.0325 - duration_loss: 0.0120 - val_loss: 12.7980 - val_pitch_loss: 9.1216 - val_duration_loss: 3.6764\n",
            "Epoch 100/2000000\n",
            "720/720 [==============================] - 11s 16ms/step - loss: 0.0491 - pitch_loss: 0.0375 - duration_loss: 0.0116 - val_loss: 12.9341 - val_pitch_loss: 9.1405 - val_duration_loss: 3.7936\n",
            "Epoch 101/2000000\n",
            "720/720 [==============================] - 11s 16ms/step - loss: 0.0472 - pitch_loss: 0.0352 - duration_loss: 0.0120 - val_loss: 13.0224 - val_pitch_loss: 9.2091 - val_duration_loss: 3.8133\n",
            "Epoch 102/2000000\n",
            "720/720 [==============================] - 11s 16ms/step - loss: 0.0495 - pitch_loss: 0.0351 - duration_loss: 0.0144 - val_loss: 13.0481 - val_pitch_loss: 9.2345 - val_duration_loss: 3.8136\n",
            "Epoch 103/2000000\n",
            "720/720 [==============================] - 11s 16ms/step - loss: 0.0457 - pitch_loss: 0.0344 - duration_loss: 0.0113 - val_loss: 13.0932 - val_pitch_loss: 9.1966 - val_duration_loss: 3.8967\n",
            "Epoch 104/2000000\n",
            "720/720 [==============================] - 11s 16ms/step - loss: 0.0453 - pitch_loss: 0.0327 - duration_loss: 0.0126 - val_loss: 12.6246 - val_pitch_loss: 8.9379 - val_duration_loss: 3.6868\n",
            "Epoch 105/2000000\n",
            "720/720 [==============================] - 12s 17ms/step - loss: 0.0428 - pitch_loss: 0.0324 - duration_loss: 0.0104 - val_loss: 12.7927 - val_pitch_loss: 9.0502 - val_duration_loss: 3.7424\n",
            "Epoch 106/2000000\n",
            "720/720 [==============================] - 11s 16ms/step - loss: 0.0481 - pitch_loss: 0.0357 - duration_loss: 0.0125 - val_loss: 12.7339 - val_pitch_loss: 9.1043 - val_duration_loss: 3.6295\n",
            "Epoch 107/2000000\n",
            "720/720 [==============================] - 11s 16ms/step - loss: 0.0447 - pitch_loss: 0.0335 - duration_loss: 0.0112 - val_loss: 12.6742 - val_pitch_loss: 9.1683 - val_duration_loss: 3.5058\n",
            "Epoch 108/2000000\n",
            "720/720 [==============================] - 11s 16ms/step - loss: 0.0460 - pitch_loss: 0.0348 - duration_loss: 0.0112 - val_loss: 12.7991 - val_pitch_loss: 9.1235 - val_duration_loss: 3.6756\n",
            "Epoch 109/2000000\n",
            "720/720 [==============================] - 12s 17ms/step - loss: 0.0412 - pitch_loss: 0.0307 - duration_loss: 0.0105 - val_loss: 13.2942 - val_pitch_loss: 9.2174 - val_duration_loss: 4.0768\n",
            "Epoch 110/2000000\n",
            "720/720 [==============================] - 12s 17ms/step - loss: 0.0404 - pitch_loss: 0.0299 - duration_loss: 0.0105 - val_loss: 12.6885 - val_pitch_loss: 9.1670 - val_duration_loss: 3.5216\n",
            "Epoch 111/2000000\n",
            "720/720 [==============================] - 11s 16ms/step - loss: 0.0442 - pitch_loss: 0.0329 - duration_loss: 0.0113 - val_loss: 12.7837 - val_pitch_loss: 9.0695 - val_duration_loss: 3.7142\n",
            "Epoch 112/2000000\n",
            "720/720 [==============================] - 11s 16ms/step - loss: 0.0425 - pitch_loss: 0.0314 - duration_loss: 0.0111 - val_loss: 13.2238 - val_pitch_loss: 9.4236 - val_duration_loss: 3.8002\n",
            "Epoch 113/2000000\n",
            "720/720 [==============================] - 11s 16ms/step - loss: 0.0408 - pitch_loss: 0.0305 - duration_loss: 0.0104 - val_loss: 13.2929 - val_pitch_loss: 9.4195 - val_duration_loss: 3.8733\n",
            "Epoch 114/2000000\n",
            "720/720 [==============================] - 11s 16ms/step - loss: 0.0436 - pitch_loss: 0.0315 - duration_loss: 0.0121 - val_loss: 13.1506 - val_pitch_loss: 9.4472 - val_duration_loss: 3.7034\n",
            "Epoch 115/2000000\n",
            "720/720 [==============================] - 11s 16ms/step - loss: 0.0434 - pitch_loss: 0.0322 - duration_loss: 0.0113 - val_loss: 13.1084 - val_pitch_loss: 9.3590 - val_duration_loss: 3.7494\n",
            "Epoch 116/2000000\n",
            "720/720 [==============================] - 11s 16ms/step - loss: 0.0418 - pitch_loss: 0.0310 - duration_loss: 0.0109 - val_loss: 13.0476 - val_pitch_loss: 9.3128 - val_duration_loss: 3.7348\n",
            "Epoch 117/2000000\n",
            "720/720 [==============================] - 11s 16ms/step - loss: 0.0405 - pitch_loss: 0.0293 - duration_loss: 0.0112 - val_loss: 13.1501 - val_pitch_loss: 9.5242 - val_duration_loss: 3.6259\n",
            "Epoch 118/2000000\n",
            "720/720 [==============================] - 11s 16ms/step - loss: 0.0417 - pitch_loss: 0.0318 - duration_loss: 0.0099 - val_loss: 13.1326 - val_pitch_loss: 9.4337 - val_duration_loss: 3.6989\n",
            "Epoch 119/2000000\n",
            "720/720 [==============================] - 11s 16ms/step - loss: 0.0406 - pitch_loss: 0.0309 - duration_loss: 0.0097 - val_loss: 13.1570 - val_pitch_loss: 9.3801 - val_duration_loss: 3.7769\n",
            "Epoch 120/2000000\n",
            "720/720 [==============================] - 11s 16ms/step - loss: 0.0404 - pitch_loss: 0.0301 - duration_loss: 0.0103 - val_loss: 13.2598 - val_pitch_loss: 9.4352 - val_duration_loss: 3.8246\n"
          ],
          "name": "stdout"
        },
        {
          "output_type": "execute_result",
          "data": {
            "text/plain": [
              "<tensorflow.python.keras.callbacks.History at 0x7faba209fcc0>"
            ]
          },
          "metadata": {
            "tags": []
          },
          "execution_count": 14
        }
      ]
    },
    {
      "cell_type": "markdown",
      "metadata": {
        "id": "tXc_g-F_2_2g",
        "colab_type": "text"
      },
      "source": [
        "# Generate the Music"
      ]
    },
    {
      "cell_type": "code",
      "metadata": {
        "id": "o93myVq8nJ5A",
        "colab_type": "code",
        "colab": {}
      },
      "source": [
        "def sample_with_temp(preds, temperature):\n",
        "\n",
        "    if temperature == 0:\n",
        "        return np.argmax(preds)\n",
        "    else:\n",
        "        preds = np.log(preds) / temperature\n",
        "        exp_preds = np.exp(preds)\n",
        "        preds = exp_preds / np.sum(exp_preds)\n",
        "        return np.random.choice(len(preds), p=preds)"
      ],
      "execution_count": 0,
      "outputs": []
    },
    {
      "cell_type": "code",
      "metadata": {
        "id": "Fy-RYvxb3ant",
        "colab_type": "code",
        "colab": {}
      },
      "source": [
        "# prediction params\n",
        "notes_temp=0.5\n",
        "duration_temp = 0.5\n",
        "max_extra_notes = 50\n",
        "max_seq_len = 32\n",
        "seq_len = 32\n",
        "\n",
        "notes = ['START']\n",
        "durations = [0]\n",
        "\n",
        "if seq_len is not None:\n",
        "    notes = ['START'] * (seq_len - len(notes)) + notes\n",
        "    durations = [0] * (seq_len - len(durations)) + durations\n",
        "\n",
        "\n",
        "sequence_length = len(notes)"
      ],
      "execution_count": 0,
      "outputs": []
    }
  ]
}